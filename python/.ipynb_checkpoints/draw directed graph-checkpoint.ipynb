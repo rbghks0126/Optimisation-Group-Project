{
 "cells": [
  {
   "cell_type": "code",
   "execution_count": 1,
   "metadata": {},
   "outputs": [],
   "source": [
    "text = \"\"\"\n",
    "Provider 1 provides service\n",
    "Provider 1 comes back to 14HS at 10.0hr.\n",
    "1-4\n",
    "3-1\n",
    "4-10\n",
    "8-3\n",
    "10-8\n",
    "travel length:6\n",
    "\n",
    "travel length:0\n",
    "\n",
    "travel length:0\n",
    "\n",
    "travel length:0\n",
    "\n",
    "travel length:0\n",
    "\n",
    "Provider 6 provides service\n",
    "Provider 6 comes back to 14HS at 11.0hr.\n",
    "1-6\n",
    "6-9\n",
    "9-1\n",
    "travel length:7\n",
    "\n",
    "Provider 7 provides service\n",
    "Provider 7 comes back to 14HS at 10.0hr.\n",
    "1-5\n",
    "2-1\n",
    "5-7\n",
    "7-2\n",
    "travel length:6\n",
    "\n",
    "travel length:0\n",
    "\n",
    "travel length:0\n",
    "\"\"\""
   ]
  },
  {
   "cell_type": "code",
   "execution_count": 2,
   "metadata": {
    "scrolled": true
   },
   "outputs": [
    {
     "name": "stderr",
     "output_type": "stream",
     "text": [
      "D:\\Anaconda\\ana\\lib\\site-packages\\networkx\\drawing\\nx_pylab.py:579: MatplotlibDeprecationWarning: \n",
      "The iterable function was deprecated in Matplotlib 3.1 and will be removed in 3.3. Use np.iterable instead.\n",
      "  if not cb.iterable(width):\n",
      "D:\\Anaconda\\ana\\lib\\site-packages\\networkx\\drawing\\nx_pylab.py:676: MatplotlibDeprecationWarning: \n",
      "The iterable function was deprecated in Matplotlib 3.1 and will be removed in 3.3. Use np.iterable instead.\n",
      "  if cb.iterable(node_size):  # many node sizes\n"
     ]
    },
    {
     "data": {
      "text/plain": [
       "<Figure size 640x480 with 1 Axes>"
      ]
     },
     "metadata": {},
     "output_type": "display_data"
    }
   ],
   "source": [
    "import re\n",
    "ptn = re.compile(\"[\\d]+-[\\d]+\")\n",
    "routes = ptn.findall(text)\n",
    "edges = []\n",
    "for each in routes:\n",
    "    idx = each.index('-')\n",
    "    edges+=[(each[:idx],each[idx+1:])]\n",
    "\n",
    "import networkx as nx\n",
    "import matplotlib.pyplot as plt\n",
    "\n",
    "G = nx.DiGraph(directed=True)\n",
    "G.add_edges_from(edges)\n",
    "options = {\n",
    "    'node_size': 400,\n",
    "    'width': 1,\n",
    "    'arrowstyle': '-|>',\n",
    "    'arrowsize': 12,\n",
    "    'font_size': 8,\n",
    "}\n",
    "nx.draw_networkx(G, arrows=True, **options)\n",
    "plt.savefig(\"p\", bbox_inches='tight', dpi=300)\n",
    "plt.show()"
   ]
  },
  {
   "cell_type": "code",
   "execution_count": 17,
   "metadata": {},
   "outputs": [
    {
     "data": {
      "image/png": "[encoded data removed]",
      "text/plain": [
       "<Figure size 432x288 with 1 Axes>"
      ]
     },
     "metadata": {},
     "output_type": "display_data"
    }
   ],
   "source": []
  },
  {
   "cell_type": "code",
   "execution_count": null,
   "metadata": {},
   "outputs": [],
   "source": []
  }
 ],
 "metadata": {
  "kernelspec": {
   "display_name": "Python 3",
   "language": "python",
   "name": "python3"
  },
  "language_info": {
   "codemirror_mode": {
    "name": "ipython",
    "version": 3
   },
   "file_extension": ".py",
   "mimetype": "text/x-python",
   "name": "python",
   "nbconvert_exporter": "python",
   "pygments_lexer": "ipython3",
   "version": "3.7.3"
  }
 },
 "nbformat": 4,
 "nbformat_minor": 2
}
